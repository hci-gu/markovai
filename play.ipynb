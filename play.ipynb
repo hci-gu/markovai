{
 "cells": [
  {
   "cell_type": "code",
   "execution_count": 71,
   "metadata": {},
   "outputs": [],
   "source": [
    "# load json from file\n",
    "import json\n",
    "import pickle\n",
    "import random\n",
    "import math\n",
    "\n",
    "def loadGame(game):\n",
    "    with open('./games/'+game+'.json') as f:\n",
    "        data = json.load(f)\n",
    "    return data\n",
    "\n",
    "# with open('./games/tripple.json') as f:\n",
    "#     data = json.load(f)\n",
    "# # print the data\n",
    "# print(data)\n",
    "\n",
    "games = [\n",
    "    loadGame('balloon'),\n",
    "    loadGame('riskavoidance'),\n",
    "    loadGame('igt-variant'),\n",
    "    loadGame('double'),\n",
    "    loadGame('tripple'),\n",
    "]\n",
    "\n"
   ]
  },
  {
   "cell_type": "code",
   "execution_count": 83,
   "metadata": {},
   "outputs": [],
   "source": [
    "class Node:\n",
    "  def __init__(self, node, nodes):\n",
    "    self.id = pickle.dumps(node)\n",
    "    self.rewardHistory = []\n",
    "    if 'rewards' in node:\n",
    "      self.rewards = node['rewards']\n",
    "    if 'actions' not in node:\n",
    "      self.isLeaf = True\n",
    "      return\n",
    "    self.isLeaf = False\n",
    "    if 'up' in node['actions']:\n",
    "      self.up = getNode(node['actions']['up'][0]['next'], nodes)\n",
    "    if 'down' in node['actions']:\n",
    "      self.down = getNode(node['actions']['down'][0]['next'], nodes)\n",
    "    if 'left' in node['actions']:\n",
    "      self.left = getNode(node['actions']['left'][0]['next'], nodes)\n",
    "    if 'right' in node['actions']:\n",
    "      self.right = getNode(node['actions']['right'][0]['next'], nodes)\n",
    "\n",
    "  def __str__(self):\n",
    "    if self.isLeaf:\n",
    "      return 'Leaf'\n",
    "    return 'Node'\n",
    "  \n",
    "  def getReward(self):\n",
    "    # get random number\n",
    "    r = random.random()\n",
    "    # sample reward\n",
    "    s = 0\n",
    "    if not hasattr(self, 'rewards'):\n",
    "      return 0\n",
    "    for i in range(len(self.rewards)):\n",
    "      s += self.rewards[i]['p']\n",
    "      if r < s:\n",
    "        reward = self.rewards[i]['value']\n",
    "        self.rewardHistory.append(reward)\n",
    "        return reward\n",
    "      \n",
    "  def getAverageReward(self):\n",
    "    return sum(self.rewardHistory) / len(self.rewardHistory) if len(self.rewardHistory) > 0 else 0\n",
    "\n",
    "def getNode(node, nodes):\n",
    "  # return node in nodes with matching id\n",
    "  for n in nodes:\n",
    "    if n.id == pickle.dumps(node):\n",
    "      return n\n",
    "  node = Node(node, nodes)\n",
    "  nodes.append(node)\n",
    "  return node\n"
   ]
  },
  {
   "cell_type": "code",
   "execution_count": 84,
   "metadata": {},
   "outputs": [],
   "source": [
    "class Path:\n",
    "  def __init__(self, path):\n",
    "    self.path = path\n",
    "    self.length = len(path)\n",
    "    self.taken = 0\n",
    "\n",
    "def getPaths(node, path):\n",
    "  if node.isLeaf:\n",
    "    return [Path(path + [node])]\n",
    "  paths = []\n",
    "  if hasattr(node, 'left'):\n",
    "    paths += getPaths(node.left, path + [node])\n",
    "  if hasattr(node, 'up'):\n",
    "    paths += getPaths(node.up, path + [node])\n",
    "  if hasattr(node, 'down'):\n",
    "    paths += getPaths(node.down, path + [node])\n",
    "  if hasattr(node, 'right'):\n",
    "    paths += getPaths(node.right, path + [node])\n",
    "  return paths"
   ]
  },
  {
   "cell_type": "code",
   "execution_count": 74,
   "metadata": {},
   "outputs": [],
   "source": [
    "def selectBestPath(paths):\n",
    "  # select path with highest average reward\n",
    "  rewards = []\n",
    "  for path in paths:\n",
    "    reward = 0\n",
    "    for node in path.path:\n",
    "      reward += node.getAverageReward()\n",
    "    rewards.append(reward)\n",
    "  # get max from rewards\n",
    "  bestPath = max(range(len(rewards)), key=rewards.__getitem__)\n",
    "  return paths[bestPath]\n",
    "\n",
    "def epsilonGreedy(selectBestPath, epsilon):\n",
    "  def selectPath(paths):\n",
    "    # select path with highest average reward\n",
    "    if random.random() < epsilon:\n",
    "      return random.choice(paths)\n",
    "    return selectBestPath(paths)\n",
    "  return selectPath\n"
   ]
  },
  {
   "cell_type": "code",
   "execution_count": 80,
   "metadata": {},
   "outputs": [],
   "source": [
    "def runGame(game, selectPathFunc):\n",
    "  nodes = []\n",
    "  start = Node(game['start'], nodes)\n",
    "  paths = getPaths(start, [])\n",
    "\n",
    "  score = 0\n",
    "  for i in range(75):\n",
    "      if i < len(paths):\n",
    "        path = paths[i]\n",
    "      else:\n",
    "        selectPath = selectPathFunc(i)\n",
    "        # shuffle paths\n",
    "        random.shuffle(paths)\n",
    "        # select path\n",
    "        path = selectPath(paths)\n",
    "        path.taken += 1\n",
    "      # traverse path to update reward\n",
    "      reward = 0\n",
    "      for node in path.path:\n",
    "          reward += node.getReward()\n",
    "      score += reward\n",
    "\n",
    "  return score\n"
   ]
  },
  {
   "cell_type": "code",
   "execution_count": 76,
   "metadata": {},
   "outputs": [],
   "source": [
    "def runEpsilonGreedySimulation(game):\n",
    "    epsilonScores = []\n",
    "    for epsilon in range(0, 100, 5):\n",
    "        scores = []\n",
    "        for i in range(100):\n",
    "            score = runGame(game, lambda x:epsilonGreedy(selectBestPath, epsilon/100.))\n",
    "            scores.append(score)\n",
    "\n",
    "        avgScore = sum(scores) / len(scores)\n",
    "        # print(str(epsilon) + ' Score: ' + str(avgScore))\n",
    "        epsilonScores.append(avgScore)\n",
    "    return epsilonScores"
   ]
  },
  {
   "cell_type": "code",
   "execution_count": 110,
   "metadata": {},
   "outputs": [
    {
     "name": "stdout",
     "output_type": "stream",
     "text": [
      "Game 0\n",
      "Max score: 46.1 at epsilon: 0.1\n",
      "Game 1\n",
      "Max score: 148.4 at epsilon: 0.0\n",
      "Game 2\n",
      "Max score: 13255.4 at epsilon: 0.25\n",
      "Game 3\n",
      "Max score: 221.88 at epsilon: 0.0\n",
      "Game 4\n",
      "Max score: 604.8 at epsilon: 0.0\n"
     ]
    },
    {
     "data": {
      "image/png": "[encoded data removed]",
      "text/plain": [
       "<Figure size 640x480 with 5 Axes>"
      ]
     },
     "metadata": {},
     "output_type": "display_data"
    }
   ],
   "source": [
    "import matplotlib.pyplot as plt\n",
    "# run simulation and plot in a grid\n",
    "for i in range(0,len(games)):\n",
    "    print('Game ' + str(i))\n",
    "    epsilonScores = runEpsilonGreedySimulation(games[i])\n",
    "    # get max score index\n",
    "    maxScoreIndex = epsilonScores.index(max(epsilonScores))\n",
    "    # print max score\n",
    "    print('Max score: ' + str(epsilonScores[maxScoreIndex]) + ' at epsilon: ' + str(maxScoreIndex*5/100.0))\n",
    "    plt.subplot(3, 2, i+1)\n",
    "    # add margin between plots\n",
    "    plt.subplots_adjust(hspace=0.5)\n",
    "    plt.title('Game ' + str(i))\n",
    "    plt.plot(range(0, 100, 5), epsilonScores)\n",
    "    plt.xlabel('Epsilon')\n",
    "    plt.ylabel('Score')\n",
    "    # tight fit\n",
    "    plt.tight_layout()"
   ]
  },
  {
   "cell_type": "code",
   "execution_count": 123,
   "metadata": {},
   "outputs": [],
   "source": [
    "def ucb1(i):\n",
    "    def selectPath(paths):\n",
    "        # select path with highest average reward\n",
    "        rewards = []\n",
    "        for path in paths:\n",
    "            reward = 0\n",
    "            for node in path.path:\n",
    "                reward += node.getAverageReward()\n",
    "            rewards.append(reward)\n",
    "        highestAverageReward = max(1, max(rewards))\n",
    "        for i, (reward, path) in enumerate(zip(rewards, paths)):\n",
    "            # pathVisits = path.taken + 1\n",
    "            pathVisits = sum([len(p.rewardHistory) for p in path.path])/len(path.path)\n",
    "            # pathVisits = max([len(p.rewardHistory) for p in path.path])\n",
    "            experienceFactor = math.sqrt(2 * math.log(i+1)/pathVisits)\n",
    "            rewards[i] = reward/highestAverageReward + experienceFactor\n",
    "\n",
    "        # rewards = [rewards[i]/highestAverageReward + math.sqrt(2*math.log(i+1)/(paths[i].taken if paths[i].taken > 0 else 1)) for i in range(len(rewards))]\n",
    "        # get max from rewards\n",
    "        bestPath = max(range(len(rewards)), key=rewards.__getitem__)\n",
    "        return paths[bestPath]\n",
    "    return selectPath\n",
    "\n",
    "def runUCB1Simulation(game):\n",
    "    scores = []\n",
    "    for i in range(100):\n",
    "        score = runGame(game, ucb1)\n",
    "        scores.append(score)\n",
    "\n",
    "    avgScore = sum(scores) / len(scores)\n",
    "    return avgScore\n",
    "\n"
   ]
  },
  {
   "cell_type": "code",
   "execution_count": 124,
   "metadata": {},
   "outputs": [
    {
     "name": "stdout",
     "output_type": "stream",
     "text": [
      "Game 0\n",
      "Score: 41.4\n",
      "Game 1\n",
      "Score: 138.11\n",
      "Game 2\n",
      "Score: 9586.7\n",
      "Game 3\n",
      "Score: 215.24\n",
      "Game 4\n",
      "Score: 591.69\n"
     ]
    }
   ],
   "source": [
    "import matplotlib.pyplot as plt\n",
    "# run simulation and plot in a grid\n",
    "scores = []\n",
    "for i in range(0,len(games)):\n",
    "    print('Game ' + str(i))\n",
    "    score = runUCB1Simulation(games[i])\n",
    "    scores.append(score)\n",
    "    print('Score: ' + str(score))\n",
    "\n",
    "# plt.bar(range(len(scores)), scores)"
   ]
  },
  {
   "cell_type": "code",
   "execution_count": null,
   "metadata": {},
   "outputs": [],
   "source": []
  }
 ],
 "metadata": {
  "kernelspec": {
   "display_name": "Python 3",
   "language": "python",
   "name": "python3"
  },
  "language_info": {
   "codemirror_mode": {
    "name": "ipython",
    "version": 3
   },
   "file_extension": ".py",
   "mimetype": "text/x-python",
   "name": "python",
   "nbconvert_exporter": "python",
   "pygments_lexer": "ipython3",
   "version": "3.9.7"
  },
  "orig_nbformat": 4,
  "vscode": {
   "interpreter": {
    "hash": "aee8b7b246df8f9039afb4144a1f6fd8d2ca17a180786b69acc140d282b71a49"
   }
  }
 },
 "nbformat": 4,
 "nbformat_minor": 2
}
