{
 "cells": [
  {
   "cell_type": "code",
   "execution_count": 110,
   "metadata": {},
   "outputs": [
    {
     "name": "stdout",
     "output_type": "stream",
     "text": [
      "{'start': {'actions': {'up': [{'p': 1, 'next': {'rewards': [{'p': 1, 'value': 1}], 'actions': {'left': [{'p': 1, 'next': {'rewards': [{'p': 1, 'value': 2}], 'actions': {'left': [{'p': 1, 'next': {'rewards': [{'p': 0.5, 'value': -1}, {'p': 0.5, 'value': -2}], 'actions': {'up': [{'p': 1, 'next': {'rewards': [{'p': 1, 'value': 1}]}}]}}}], 'down': [{'p': 1, 'next': {'rewards': [{'p': 1, 'value': 1}], 'actions': {'left': [{'p': 1, 'next': {'rewards': [{'p': 1, 'value': -5}], 'actions': {'up': [{'p': 1, 'next': {'rewards': [{'p': 0.5, 'value': -1}, {'p': 0.5, 'value': -2}], 'actions': {'up': [{'p': 1, 'next': {'rewards': [{'p': 1, 'value': 1}]}}]}}}]}}}]}}}]}}}], 'up': [{'p': 1, 'next': {'rewards': [{'p': 1, 'value': 1}], 'actions': {'left': [{'p': 1, 'next': {'rewards': [{'p': 1, 'value': 5}], 'actions': {'left': [{'p': 1, 'next': {'rewards': [{'p': 1, 'value': 1}]}}], 'down': [{'p': 1, 'next': {'rewards': [{'p': 1, 'value': 2}], 'actions': {'left': [{'p': 1, 'next': {'rewards': [{'p': 0.5, 'value': -1}, {'p': 0.5, 'value': -2}], 'actions': {'up': [{'p': 1, 'next': {'rewards': [{'p': 1, 'value': 1}]}}]}}}], 'down': [{'p': 1, 'next': {'rewards': [{'p': 1, 'value': 1}], 'actions': {'left': [{'p': 1, 'next': {'rewards': [{'p': 1, 'value': -5}], 'actions': {'up': [{'p': 1, 'next': {'rewards': [{'p': 0.5, 'value': -1}, {'p': 0.5, 'value': -2}], 'actions': {'up': [{'p': 1, 'next': {'rewards': [{'p': 1, 'value': 1}]}}]}}}]}}}]}}}]}}}]}}}]}}}]}}}], 'left': [{'p': 1, 'next': {'rewards': [{'p': 1, 'value': 1}], 'actions': {'left': [{'p': 1, 'next': {'rewards': [{'p': 1, 'value': -5}], 'actions': {'up': [{'p': 1, 'next': {'rewards': [{'p': 0.5, 'value': -1}, {'p': 0.5, 'value': -2}], 'actions': {'up': [{'p': 1, 'next': {'rewards': [{'p': 1, 'value': 1}]}}]}}}]}}}]}}}]}}}\n"
     ]
    }
   ],
   "source": [
    "# load json from file\n",
    "import json\n",
    "import pickle\n",
    "import random\n",
    "with open('./games/tripple.json') as f:\n",
    "    data = json.load(f)\n",
    "# print the data\n",
    "print(data)\n"
   ]
  },
  {
   "cell_type": "code",
   "execution_count": 98,
   "metadata": {},
   "outputs": [],
   "source": [
    "class Node:\n",
    "  def __init__(self, node, nodes):\n",
    "    self.id = pickle.dumps(node)\n",
    "    self.rewardHistory = []\n",
    "    if 'rewards' in node:\n",
    "      self.rewards = node['rewards']\n",
    "    if 'actions' not in node:\n",
    "      self.isLeaf = True\n",
    "      return\n",
    "    self.isLeaf = False\n",
    "    if 'up' in node['actions']:\n",
    "      self.up = getNode(node['actions']['up'][0]['next'], nodes)\n",
    "    if 'down' in node['actions']:\n",
    "      self.down = getNode(node['actions']['down'][0]['next'], nodes)\n",
    "    if 'left' in node['actions']:\n",
    "      self.left = getNode(node['actions']['left'][0]['next'], nodes)\n",
    "    if 'right' in node['actions']:\n",
    "      self.right = getNode(node['actions']['right'][0]['next'], nodes)\n",
    "\n",
    "  def __str__(self):\n",
    "    if self.isLeaf:\n",
    "      return 'Leaf'\n",
    "    return 'Node'\n",
    "  \n",
    "  def getReward(self):\n",
    "    # get random number\n",
    "    r = random.random()\n",
    "    # sample reward\n",
    "    s = 0\n",
    "    if not hasattr(self, 'rewards'):\n",
    "      return 0\n",
    "    for i in range(len(self.rewards)):\n",
    "      s += self.rewards[i]['p']\n",
    "      if r < s:\n",
    "        reward = self.rewards[i]['value']\n",
    "        self.rewardHistory.append(reward)\n",
    "        return reward\n",
    "      \n",
    "  def getAverageReward(self):\n",
    "    return sum(self.rewardHistory) / len(self.rewardHistory) if len(self.rewardHistory) > 0 else 0\n",
    "\n",
    "def getNode(node, nodes):\n",
    "  # return node in nodes with matching id\n",
    "  for n in nodes:\n",
    "    if n.id == pickle.dumps(node):\n",
    "      return n\n",
    "  node = Node(node, nodes)\n",
    "  nodes.append(node)\n",
    "  return node\n"
   ]
  },
  {
   "cell_type": "code",
   "execution_count": 99,
   "metadata": {},
   "outputs": [],
   "source": [
    "nodes = []\n",
    "start = Node(data['start'], nodes)\n"
   ]
  },
  {
   "cell_type": "code",
   "execution_count": 112,
   "metadata": {},
   "outputs": [],
   "source": [
    "class Path:\n",
    "  def __init__(self, path):\n",
    "    self.path = path\n",
    "    self.length = len(path)\n",
    "\n",
    "def getPaths(node, path):\n",
    "  if node.isLeaf:\n",
    "    return [Path(path + [node])]\n",
    "  paths = []\n",
    "  if hasattr(node, 'left'):\n",
    "    paths += getPaths(node.left, path + [node])\n",
    "  if hasattr(node, 'up'):\n",
    "    paths += getPaths(node.up, path + [node])\n",
    "  if hasattr(node, 'down'):\n",
    "    paths += getPaths(node.down, path + [node])\n",
    "  if hasattr(node, 'right'):\n",
    "    paths += getPaths(node.right, path + [node])\n",
    "  return paths"
   ]
  },
  {
   "cell_type": "code",
   "execution_count": 107,
   "metadata": {},
   "outputs": [
    {
     "name": "stdout",
     "output_type": "stream",
     "text": [
      "2\n"
     ]
    }
   ],
   "source": [
    "paths = getPaths(start, [])\n",
    "print(len(paths))"
   ]
  },
  {
   "cell_type": "code",
   "execution_count": 113,
   "metadata": {},
   "outputs": [],
   "source": [
    "def selectBestPath(paths):\n",
    "  # select path with highest average reward\n",
    "  maxAverageReward = 0\n",
    "  maxPath = None\n",
    "  rewards = []\n",
    "  for path in paths:\n",
    "    reward = 0\n",
    "    for node in path.path:\n",
    "      reward += node.getAverageReward()\n",
    "    rewards.append(reward)\n",
    "  # get max from rewards\n",
    "  bestPath = max(range(len(rewards)), key=rewards.__getitem__)\n",
    "  return paths[bestPath]\n",
    "\n",
    "def epsilonGreedy(selectBestPath, epsilon):\n",
    "  def selectPath(paths):\n",
    "    # select path with highest average reward\n",
    "    if random.random() < epsilon:\n",
    "      return random.choice(paths)\n",
    "    return selectBestPath(paths)\n",
    "  return selectPath\n"
   ]
  },
  {
   "cell_type": "code",
   "execution_count": 117,
   "metadata": {},
   "outputs": [
    {
     "name": "stdout",
     "output_type": "stream",
     "text": [
      "0 Score: 587.8\n",
      "5 Score: 592.3\n",
      "10 Score: 578.4\n",
      "15 Score: 555.5\n",
      "20 Score: 544.0\n",
      "25 Score: 531.6\n",
      "30 Score: 481.3\n",
      "35 Score: 482.7\n",
      "40 Score: 446.9\n",
      "45 Score: 443.4\n",
      "50 Score: 408.4\n",
      "55 Score: 401.4\n",
      "60 Score: 355.7\n",
      "65 Score: 358.5\n",
      "70 Score: 330.5\n",
      "75 Score: 324.3\n",
      "80 Score: 300.8\n",
      "85 Score: 282.8\n",
      "90 Score: 259.0\n",
      "95 Score: 227.8\n"
     ]
    }
   ],
   "source": [
    "for epsilon in range(0, 100, 5):\n",
    "    scores = []\n",
    "    for i in range(10):\n",
    "        nodes = []\n",
    "        start = Node(data['start'], nodes)\n",
    "        paths = getPaths(start, [])\n",
    "\n",
    "        selectPath = epsilonGreedy(selectBestPath, epsilon/100.)\n",
    "\n",
    "        score = 0\n",
    "        for i in range(75):\n",
    "            # select path\n",
    "            path = selectPath(paths)\n",
    "            # traverse path to update reward\n",
    "            reward = 0\n",
    "            for node in path.path:\n",
    "                reward += node.getReward()\n",
    "        #    print('Reward: ' + str(reward))\n",
    "            score += reward\n",
    "        scores.append(score)\n",
    "\n",
    "    avgScore = sum(scores) / len(scores)\n",
    "    print(str(epsilon) + ' Score: ' + str(avgScore))"
   ]
  },
  {
   "cell_type": "code",
   "execution_count": 104,
   "metadata": {},
   "outputs": [
    {
     "name": "stdout",
     "output_type": "stream",
     "text": [
      "0\n",
      "0\n"
     ]
    }
   ],
   "source": [
    "# print average reward for each node\n",
    "for node in nodes:\n",
    "  print(node.getAverageReward())\n",
    "  "
   ]
  },
  {
   "cell_type": "code",
   "execution_count": 105,
   "metadata": {},
   "outputs": [
    {
     "name": "stdout",
     "output_type": "stream",
     "text": [
      "0\n",
      "0\n"
     ]
    }
   ],
   "source": [
    "# print lenth of average reward history for each node\n",
    "for node in nodes:\n",
    "  print(len(node.rewardHistory))\n",
    "  "
   ]
  },
  {
   "cell_type": "code",
   "execution_count": null,
   "metadata": {},
   "outputs": [],
   "source": []
  }
 ],
 "metadata": {
  "kernelspec": {
   "display_name": "Python 3",
   "language": "python",
   "name": "python3"
  },
  "language_info": {
   "codemirror_mode": {
    "name": "ipython",
    "version": 3
   },
   "file_extension": ".py",
   "mimetype": "text/x-python",
   "name": "python",
   "nbconvert_exporter": "python",
   "pygments_lexer": "ipython3",
   "version": "3.9.7"
  },
  "orig_nbformat": 4,
  "vscode": {
   "interpreter": {
    "hash": "aee8b7b246df8f9039afb4144a1f6fd8d2ca17a180786b69acc140d282b71a49"
   }
  }
 },
 "nbformat": 4,
 "nbformat_minor": 2
}
