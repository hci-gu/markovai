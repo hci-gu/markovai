{
 "cells": [
  {
   "cell_type": "code",
   "execution_count": null,
   "metadata": {},
   "outputs": [],
   "source": [
    "# load responses.json\n",
    "\n",
    "import json\n",
    "\n",
    "with open('responses.json') as f:\n",
    "    data = json.load(f)\n",
    "\n",
    "print(data)"
   ]
  },
  {
   "cell_type": "code",
   "execution_count": 4,
   "metadata": {},
   "outputs": [],
   "source": [
    "# group data by participantId\n",
    "\n",
    "participants = {}\n",
    "\n",
    "for response in data:\n",
    "    participantId = response['participantId']\n",
    "    # if response['score'] is an object ignore it\n",
    "    if isinstance(response['score'], dict):\n",
    "        continue\n",
    "    # ignore data before may 25th using timestamps as a string\n",
    "    if response['timestamp'] < '2023-05-25':\n",
    "        continue\n",
    "    if participantId not in participants:\n",
    "        participants[participantId] = []\n",
    "    participants[participantId].append(response)\n",
    "\n",
    "# filter out participants with at least 5 responses\n",
    "\n",
    "participants = {k: v for k, v in participants.items() if len(v) == 5}\n",
    "\n",
    "# make into array\n",
    "\n",
    "scores = list(participants.values())\n",
    "scores = [score for participant in scores for score in participant]\n"
   ]
  },
  {
   "cell_type": "code",
   "execution_count": 5,
   "metadata": {},
   "outputs": [
    {
     "data": {
      "image/png": "[encoded data removed]",
      "text/plain": [
       "<Figure size 640x480 with 5 Axes>"
      ]
     },
     "metadata": {},
     "output_type": "display_data"
    }
   ],
   "source": [
    "# plot scores\n",
    "\n",
    "import matplotlib.pyplot as plt\n",
    "\n",
    "for i in range(5):\n",
    "  gameScores = [score['score'] for score in scores if score['gameNumber'] == i]\n",
    "\n",
    "  # subplot\n",
    "  plt.subplot(3, 2, i+1)\n",
    "  # bar charts\n",
    "  plt.bar(range(len(gameScores)), gameScores)\n",
    "  # title\n",
    "  plt.title('Game ' + str(i+1))\n",
    "  # make title fit\n",
    "  plt.tight_layout()\n",
    "  \n",
    "\n",
    "plt.show()\n"
   ]
  },
  {
   "cell_type": "code",
   "execution_count": null,
   "metadata": {},
   "outputs": [],
   "source": []
  },
  {
   "cell_type": "code",
   "execution_count": 6,
   "metadata": {},
   "outputs": [
    {
     "name": "stderr",
     "output_type": "stream",
     "text": [
      "/Users/rost/Library/Python/3.9/lib/python/site-packages/urllib3/connectionpool.py:1045: InsecureRequestWarning: Unverified HTTPS request is being made to host 'api.openai.com'. Adding certificate verification is strongly advised. See: https://urllib3.readthedocs.io/en/1.26.x/advanced-usage.html#ssl-warnings\n",
      "  warnings.warn(\n"
     ]
    },
    {
     "name": "stdout",
     "output_type": "stream",
     "text": [
      "Hello! How can I assist you today?\n"
     ]
    },
    {
     "name": "stderr",
     "output_type": "stream",
     "text": [
      "/Users/rost/Library/Python/3.9/lib/python/site-packages/urllib3/connectionpool.py:1045: InsecureRequestWarning: Unverified HTTPS request is being made to host 'api.openai.com'. Adding certificate verification is strongly advised. See: https://urllib3.readthedocs.io/en/1.26.x/advanced-usage.html#ssl-warnings\n",
      "  warnings.warn(\n"
     ]
    },
    {
     "data": {
      "text/plain": [
       "{'role': 'assistant', 'content': 'One plus one equals two.'}"
      ]
     },
     "execution_count": 6,
     "metadata": {},
     "output_type": "execute_result"
    }
   ],
   "source": [
    "import requests\n",
    "\n",
    "# get env variable OPENAI_API_KEY\n",
    "import os\n",
    "api_key = os.environ.get('OPENAI_API_KEY')\n",
    "\n",
    "url = \"https://api.openai.com/v1/chat/completions\"\n",
    "\n",
    "def chat(messages):\n",
    "    headers = {\n",
    "        \"Content-Type\": \"application/json\",\n",
    "        \"Authorization\": \"Bearer \" + api_key,\n",
    "    }\n",
    "\n",
    "    data = {\n",
    "        \"model\": \"gpt-3.5-turbo\",\n",
    "        \"messages\": messages,\n",
    "        # \"max_tokens\": 4000,\n",
    "        \"temperature\": 0.4\n",
    "    }\n",
    "\n",
    "    response = requests.post(url, headers=headers, json=data, verify=False)\n",
    "\n",
    "    data = response.json()\n",
    "\n",
    "    return data['choices'][0]['message']\n",
    "\n",
    "messages = []\n",
    "messages.append({ \"role\": \"user\", \"content\": \"Hello\" })\n",
    "\n",
    "message = chat(messages)\n",
    "print(message['content'])\n",
    "messages.append(message)\n",
    "messages.append({ \"role\": \"user\", \"content\": \"What is one plus one?\" })\n",
    "\n",
    "chat(messages)\n"
   ]
  },
  {
   "cell_type": "code",
   "execution_count": 12,
   "metadata": {},
   "outputs": [
    {
     "name": "stdout",
     "output_type": "stream",
     "text": [
      "0.08207625203461805\n",
      "0.02371220189097838\n",
      "0.14492795472656292\n",
      "0.11975218666142484\n",
      "0.14431889428548034\n"
     ]
    }
   ],
   "source": [
    "maxScores = [149.89499999999998, 225.0, 75.171, 149.89575, 224.94075]\n",
    "\n",
    "for i in range(5):\n",
    "    gameScore = [score['score'] for score in scores if score['gameNumber'] == i]\n",
    "    # avg\n",
    "    avg = sum(gameScore) / len(gameScore)\n",
    "    # mean\n",
    "    mean = sum(gameScore) / len(gameScore)\n",
    "    # median\n",
    "    median = sorted(gameScore)[len(gameScore) // 2]\n",
    "    # std\n",
    "    std = (sum([((score - mean)/maxScores[i])**2 for score in gameScore]) / len(gameScore))**0.5\n",
    "    # print(median / maxScores[i])\n",
    "    # print(mean / maxScores[i], std)\n",
    "    print(std)\n"
   ]
  },
  {
   "cell_type": "code",
   "execution_count": 24,
   "metadata": {},
   "outputs": [
    {
     "data": {
      "text/plain": [
       "0.8066666666666666"
      ]
     },
     "execution_count": 24,
     "metadata": {},
     "output_type": "execute_result"
    }
   ],
   "source": [
    "121/150"
   ]
  },
  {
   "cell_type": "code",
   "execution_count": null,
   "metadata": {},
   "outputs": [],
   "source": []
  }
 ],
 "metadata": {
  "kernelspec": {
   "display_name": "Python 3",
   "language": "python",
   "name": "python3"
  },
  "language_info": {
   "codemirror_mode": {
    "name": "ipython",
    "version": 3
   },
   "file_extension": ".py",
   "mimetype": "text/x-python",
   "name": "python",
   "nbconvert_exporter": "python",
   "pygments_lexer": "ipython3",
   "version": "3.9.6"
  },
  "orig_nbformat": 4
 },
 "nbformat": 4,
 "nbformat_minor": 2
}
